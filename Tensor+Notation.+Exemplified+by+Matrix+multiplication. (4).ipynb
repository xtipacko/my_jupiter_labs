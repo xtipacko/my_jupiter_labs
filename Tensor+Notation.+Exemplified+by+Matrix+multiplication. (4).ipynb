{
 "cells": [
  {
   "cell_type": "markdown",
   "metadata": {},
   "source": [
    "<center><h1 style=\"color:#5900FF;\">Tensor notation.</h1></center>\n",
    "<center><h2>Exemplified by Matrix multiplication.</h2></center>\n"
   ]
  },
  {
   "cell_type": "markdown",
   "metadata": {},
   "source": [
    "<style>.MathJax {font-size: 400%;}</style>\n",
    "\n",
    "In math notation these two equations (dot product) are equivalent, but first in Matrix notation, and second is in Einstein notation.\n",
    "\n",
    "$$\n",
    "C = A \\cdot B  \\Longleftrightarrow  \\color{blue} {C_{i,j} = A_{i,k} \\cdot B_{k,j}}\n",
    "$$\n",
    "\n",
    "\n",
    "In Einstein notation, k is actually means a summation:\n",
    "\n",
    "$$\n",
    "\\color{blue} {C_{i,j} = A_{i,k} \\cdot B_{k,j}} \\Longleftrightarrow C_{i,j} = \\sum_{k=0}^{n}A_{i,k} \\cdot B_{k,j} \\\\\n",
    "$$\n",
    "Where:\n",
    "$$A \\in R^{m,n} \\\\\n",
    "  B \\in R^{n,w} \\\\\n",
    "  C \\in R^{m,w}\n",
    "$$\n",
    "\n",
    "We also can \"say\" that this multiplication $A_{i,k} \\cdot B_{k,j}$ is done for each k, and then summed up over k to get $C_{i,j}$.\n",
    "\n",
    "So now we can easily calculate dot product in python, and verify it with numpy:"
   ]
  },
  {
   "cell_type": "code",
   "execution_count": 1,
   "metadata": {
    "collapsed": true
   },
   "outputs": [],
   "source": [
    "import numpy as np"
   ]
  },
  {
   "cell_type": "markdown",
   "metadata": {},
   "source": [
    "To calculate dot product we can define such function in python, or any other language. The complexity will be $O(n^3)$."
   ]
  },
  {
   "cell_type": "code",
   "execution_count": 2,
   "metadata": {
    "collapsed": true
   },
   "outputs": [],
   "source": [
    "def dot(A,B):\n",
    "    assert A.shape[1] == B.shape[0], f\"matrix dimention mismatch can not multiply A {A.shape} by B {B.shape}\"\n",
    "    m, n, w = A.shape[0], A.shape[1],  B.shape[1]\n",
    "\n",
    "    C = np.zeros((m,w), dtype=np.int32)\n",
    "    \n",
    "    for i in range(m):\n",
    "        for j in range(w):\n",
    "            C[i,j] = sum([A[i,k] * B[k,j] for k in range(n)])\n",
    "    return C"
   ]
  },
  {
   "cell_type": "code",
   "execution_count": 5,
   "metadata": {
    "collapsed": true
   },
   "outputs": [],
   "source": [
    "## to output as Latex:\n",
    "from IPython.display import Latex, display, display_latex\n",
    "from sympy.interactive import printing\n",
    "printing.init_printing(use_latex='png')\n",
    "\n",
    "def to_latex(A):\n",
    "    rows = ['&'.join([str(i) for i in row]) for row in A]\n",
    "    content = '\\\\\\\\'.join(rows)\n",
    "    mx = f'''  \n",
    "    \\\\begin{{bmatrix}}\n",
    "    {content}\n",
    "    \\\\end{{bmatrix}}\n",
    "    '''\n",
    "    return mx\n",
    "    \n",
    "def display4matrices(A,B,C,C_check):\n",
    "    display(Latex(\"$$A_{i,k} \\cdot B_{k,j} = C_{i,j} = C\\\\_check_{i,j} \\n$$\"))\n",
    "    tex = f'$${to_latex(A)} \\cdot {to_latex(B)} = {to_latex(C)} = {to_latex(C_check)}$$'\n",
    "    display(Latex((tex)))\n",
    "    "
   ]
  },
  {
   "cell_type": "code",
   "execution_count": 4,
   "metadata": {},
   "outputs": [
    {
     "name": "stdout",
     "output_type": "stream",
     "text": [
      "Works!\n"
     ]
    },
    {
     "data": {
      "text/latex": [
       "$$A_{i,k} \\cdot B_{k,j} = C_{i,j} = C\\_check_{i,j} \n",
       "$$"
      ],
      "text/plain": [
       "<IPython.core.display.Latex object>"
      ]
     },
     "metadata": {},
     "output_type": "display_data"
    },
    {
     "data": {
      "text/latex": [
       "$$  \n",
       "    \\begin{bmatrix}\n",
       "    9&7&2&5&4\\\\5&3&5&1&4\\\\1&3&8&6&2\n",
       "    \\end{bmatrix}\n",
       "     \\cdot   \n",
       "    \\begin{bmatrix}\n",
       "    4&2&8&1\\\\3&2&9&7\\\\0&8&1&5\\\\8&4&9&1\\\\1&2&3&8\n",
       "    \\end{bmatrix}\n",
       "     =   \n",
       "    \\begin{bmatrix}\n",
       "    101&76&194&105\\\\41&68&93&84\\\\63&100&103&84\n",
       "    \\end{bmatrix}\n",
       "     =   \n",
       "    \\begin{bmatrix}\n",
       "    101&76&194&105\\\\41&68&93&84\\\\63&100&103&84\n",
       "    \\end{bmatrix}\n",
       "    $$"
      ],
      "text/plain": [
       "<IPython.core.display.Latex object>"
      ]
     },
     "metadata": {},
     "output_type": "display_data"
    }
   ],
   "source": [
    "m, n, w = 3, 5, 4\n",
    "A = np.random.randint(0,10, size=(m,n))\n",
    "B = np.random.randint(0,10, size=(n,w))\n",
    "\n",
    "C = dot(A,B)\n",
    "C_check = np.dot(A,B)\n",
    "if np.allclose(C, C_check):\n",
    "    print(\"Works!\")\n",
    "\n",
    "display4matrices(A,B,C,C_check)"
   ]
  },
  {
   "cell_type": "code",
   "execution_count": 15,
   "metadata": {},
   "outputs": [
    {
     "name": "stdout",
     "output_type": "stream",
     "text": [
      "Same!\n"
     ]
    },
    {
     "data": {
      "text/latex": [
       "$$A \\cdot B = C\\_check \\Longleftrightarrow \\sum_{k}C\\_einsum_{i,j,k} = \\sum_{k} \\left(A_{i,k} \\cdot B_{k,j}\\right)$$"
      ],
      "text/plain": [
       "<IPython.core.display.Latex object>"
      ]
     },
     "metadata": {},
     "output_type": "display_data"
    },
    {
     "data": {
      "text/latex": [
       "$$  \n",
       "    \\begin{bmatrix}\n",
       "    9&7&2&5&4\\\\5&3&5&1&4\\\\1&3&8&6&2\n",
       "    \\end{bmatrix}\n",
       "     \\cdot   \n",
       "    \\begin{bmatrix}\n",
       "    4&2&8&1\\\\3&2&9&7\\\\0&8&1&5\\\\8&4&9&1\\\\1&2&3&8\n",
       "    \\end{bmatrix}\n",
       "     =   \n",
       "    \\begin{bmatrix}\n",
       "    101&76&194&105\\\\41&68&93&84\\\\63&100&103&84\n",
       "    \\end{bmatrix}\n",
       "     \\Longleftrightarrow   \n",
       "    \\begin{bmatrix}\n",
       "    101&76&194&105\\\\41&68&93&84\\\\63&100&103&84\n",
       "    \\end{bmatrix}\n",
       "    $$"
      ],
      "text/plain": [
       "<IPython.core.display.Latex object>"
      ]
     },
     "metadata": {},
     "output_type": "display_data"
    }
   ],
   "source": [
    "#just testing what dot product is...\n",
    "def display4matrices2(A,B,C_check,C_einsum):\n",
    "    display(Latex(r\"$$A \\cdot B = C\\_check \\Longleftrightarrow \\sum_{k}C\\_einsum_{i,j,k} = \\sum_{k} \\left(A_{i,k} \\cdot B_{k,j}\\right)$$\"))\n",
    "    tex = f'$${to_latex(A)} \\cdot {to_latex(B)} = {to_latex(C_check)} \\Longleftrightarrow {to_latex(C_einsum)}$$'\n",
    "    display(Latex((tex)))\n",
    "    \n",
    "C_check = np.dot(A,B)\n",
    "C_einsum = np.sum(np.einsum('ik,kj->kij', A,B), axis=0)\n",
    "\n",
    "if np.allclose(C_check, C_einsum):\n",
    "    print(\"Same!\")\n",
    "\n",
    "display4matrices2(A,B,C_check,C_einsum)"
   ]
  }
 ],
 "metadata": {
  "kernelspec": {
   "display_name": "Python 3",
   "language": "python",
   "name": "python3"
  },
  "language_info": {
   "codemirror_mode": {
    "name": "ipython",
    "version": 3
   },
   "file_extension": ".py",
   "mimetype": "text/x-python",
   "name": "python",
   "nbconvert_exporter": "python",
   "pygments_lexer": "ipython3",
   "version": "3.6.1"
  }
 },
 "nbformat": 4,
 "nbformat_minor": 2
}
